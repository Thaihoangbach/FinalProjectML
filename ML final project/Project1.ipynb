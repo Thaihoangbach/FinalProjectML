{
 "cells": [
  {
   "cell_type": "markdown",
   "metadata": {},
   "source": [
    "# Loading Data"
   ]
  },
  {
   "cell_type": "code",
   "execution_count": 1,
   "metadata": {},
   "outputs": [
    {
     "data": {
      "text/html": [
       "<div>\n",
       "<style scoped>\n",
       "    .dataframe tbody tr th:only-of-type {\n",
       "        vertical-align: middle;\n",
       "    }\n",
       "\n",
       "    .dataframe tbody tr th {\n",
       "        vertical-align: top;\n",
       "    }\n",
       "\n",
       "    .dataframe thead th {\n",
       "        text-align: right;\n",
       "    }\n",
       "</style>\n",
       "<table border=\"1\" class=\"dataframe\">\n",
       "  <thead>\n",
       "    <tr style=\"text-align: right;\">\n",
       "      <th></th>\n",
       "      <th>work_year</th>\n",
       "      <th>experience_level</th>\n",
       "      <th>employment_type</th>\n",
       "      <th>job_title</th>\n",
       "      <th>salary</th>\n",
       "      <th>salary_currency</th>\n",
       "      <th>salary_in_usd</th>\n",
       "      <th>employee_residence</th>\n",
       "      <th>remote_ratio</th>\n",
       "      <th>company_location</th>\n",
       "      <th>company_size</th>\n",
       "    </tr>\n",
       "  </thead>\n",
       "  <tbody>\n",
       "    <tr>\n",
       "      <th>0</th>\n",
       "      <td>2024</td>\n",
       "      <td>MI</td>\n",
       "      <td>FT</td>\n",
       "      <td>Data Scientist</td>\n",
       "      <td>120000</td>\n",
       "      <td>USD</td>\n",
       "      <td>120000</td>\n",
       "      <td>AU</td>\n",
       "      <td>0</td>\n",
       "      <td>AU</td>\n",
       "      <td>S</td>\n",
       "    </tr>\n",
       "    <tr>\n",
       "      <th>1</th>\n",
       "      <td>2024</td>\n",
       "      <td>MI</td>\n",
       "      <td>FT</td>\n",
       "      <td>Data Scientist</td>\n",
       "      <td>70000</td>\n",
       "      <td>USD</td>\n",
       "      <td>70000</td>\n",
       "      <td>AU</td>\n",
       "      <td>0</td>\n",
       "      <td>AU</td>\n",
       "      <td>S</td>\n",
       "    </tr>\n",
       "    <tr>\n",
       "      <th>2</th>\n",
       "      <td>2024</td>\n",
       "      <td>MI</td>\n",
       "      <td>CT</td>\n",
       "      <td>Data Scientist</td>\n",
       "      <td>130000</td>\n",
       "      <td>USD</td>\n",
       "      <td>130000</td>\n",
       "      <td>US</td>\n",
       "      <td>0</td>\n",
       "      <td>US</td>\n",
       "      <td>M</td>\n",
       "    </tr>\n",
       "    <tr>\n",
       "      <th>3</th>\n",
       "      <td>2024</td>\n",
       "      <td>MI</td>\n",
       "      <td>CT</td>\n",
       "      <td>Data Scientist</td>\n",
       "      <td>110000</td>\n",
       "      <td>USD</td>\n",
       "      <td>110000</td>\n",
       "      <td>US</td>\n",
       "      <td>0</td>\n",
       "      <td>US</td>\n",
       "      <td>M</td>\n",
       "    </tr>\n",
       "    <tr>\n",
       "      <th>4</th>\n",
       "      <td>2024</td>\n",
       "      <td>MI</td>\n",
       "      <td>FT</td>\n",
       "      <td>Data Science Manager</td>\n",
       "      <td>240000</td>\n",
       "      <td>USD</td>\n",
       "      <td>240000</td>\n",
       "      <td>US</td>\n",
       "      <td>0</td>\n",
       "      <td>US</td>\n",
       "      <td>M</td>\n",
       "    </tr>\n",
       "  </tbody>\n",
       "</table>\n",
       "</div>"
      ],
      "text/plain": [
       "   work_year experience_level employment_type             job_title  salary  \\\n",
       "0       2024               MI              FT        Data Scientist  120000   \n",
       "1       2024               MI              FT        Data Scientist   70000   \n",
       "2       2024               MI              CT        Data Scientist  130000   \n",
       "3       2024               MI              CT        Data Scientist  110000   \n",
       "4       2024               MI              FT  Data Science Manager  240000   \n",
       "\n",
       "  salary_currency  salary_in_usd employee_residence  remote_ratio  \\\n",
       "0             USD         120000                 AU             0   \n",
       "1             USD          70000                 AU             0   \n",
       "2             USD         130000                 US             0   \n",
       "3             USD         110000                 US             0   \n",
       "4             USD         240000                 US             0   \n",
       "\n",
       "  company_location company_size  \n",
       "0               AU            S  \n",
       "1               AU            S  \n",
       "2               US            M  \n",
       "3               US            M  \n",
       "4               US            M  "
      ]
     },
     "execution_count": 1,
     "metadata": {},
     "output_type": "execute_result"
    }
   ],
   "source": [
    "import pandas as pd  # type: ignore\n",
    "\n",
    "df = pd.read_csv('D:\\Project\\ML final project\\salaries.csv')\n",
    "df.head()"
   ]
  },
  {
   "cell_type": "markdown",
   "metadata": {},
   "source": [
    "# Preprocessing Data"
   ]
  },
  {
   "cell_type": "markdown",
   "metadata": {},
   "source": [
    "## Data infomation"
   ]
  },
  {
   "cell_type": "code",
   "execution_count": 2,
   "metadata": {},
   "outputs": [
    {
     "name": "stdout",
     "output_type": "stream",
     "text": [
      "<class 'pandas.core.frame.DataFrame'>\n",
      "RangeIndex: 16494 entries, 0 to 16493\n",
      "Data columns (total 11 columns):\n",
      " #   Column              Non-Null Count  Dtype \n",
      "---  ------              --------------  ----- \n",
      " 0   work_year           16494 non-null  int64 \n",
      " 1   experience_level    16494 non-null  object\n",
      " 2   employment_type     16494 non-null  object\n",
      " 3   job_title           16494 non-null  object\n",
      " 4   salary              16494 non-null  int64 \n",
      " 5   salary_currency     16494 non-null  object\n",
      " 6   salary_in_usd       16494 non-null  int64 \n",
      " 7   employee_residence  16494 non-null  object\n",
      " 8   remote_ratio        16494 non-null  int64 \n",
      " 9   company_location    16494 non-null  object\n",
      " 10  company_size        16494 non-null  object\n",
      "dtypes: int64(4), object(7)\n",
      "memory usage: 1.4+ MB\n"
     ]
    }
   ],
   "source": [
    "df.info()"
   ]
  },
  {
   "cell_type": "code",
   "execution_count": 3,
   "metadata": {},
   "outputs": [
    {
     "data": {
      "text/html": [
       "<div>\n",
       "<style scoped>\n",
       "    .dataframe tbody tr th:only-of-type {\n",
       "        vertical-align: middle;\n",
       "    }\n",
       "\n",
       "    .dataframe tbody tr th {\n",
       "        vertical-align: top;\n",
       "    }\n",
       "\n",
       "    .dataframe thead th {\n",
       "        text-align: right;\n",
       "    }\n",
       "</style>\n",
       "<table border=\"1\" class=\"dataframe\">\n",
       "  <thead>\n",
       "    <tr style=\"text-align: right;\">\n",
       "      <th></th>\n",
       "      <th>work_year</th>\n",
       "      <th>salary</th>\n",
       "      <th>salary_in_usd</th>\n",
       "      <th>remote_ratio</th>\n",
       "    </tr>\n",
       "  </thead>\n",
       "  <tbody>\n",
       "    <tr>\n",
       "      <th>count</th>\n",
       "      <td>16494.000000</td>\n",
       "      <td>1.649400e+04</td>\n",
       "      <td>16494.000000</td>\n",
       "      <td>16494.000000</td>\n",
       "    </tr>\n",
       "    <tr>\n",
       "      <th>mean</th>\n",
       "      <td>2023.224991</td>\n",
       "      <td>1.637878e+05</td>\n",
       "      <td>149713.575725</td>\n",
       "      <td>32.044986</td>\n",
       "    </tr>\n",
       "    <tr>\n",
       "      <th>std</th>\n",
       "      <td>0.713405</td>\n",
       "      <td>3.406017e+05</td>\n",
       "      <td>68516.136918</td>\n",
       "      <td>46.260201</td>\n",
       "    </tr>\n",
       "    <tr>\n",
       "      <th>min</th>\n",
       "      <td>2020.000000</td>\n",
       "      <td>1.400000e+04</td>\n",
       "      <td>15000.000000</td>\n",
       "      <td>0.000000</td>\n",
       "    </tr>\n",
       "    <tr>\n",
       "      <th>25%</th>\n",
       "      <td>2023.000000</td>\n",
       "      <td>1.020000e+05</td>\n",
       "      <td>101517.500000</td>\n",
       "      <td>0.000000</td>\n",
       "    </tr>\n",
       "    <tr>\n",
       "      <th>50%</th>\n",
       "      <td>2023.000000</td>\n",
       "      <td>1.422000e+05</td>\n",
       "      <td>141300.000000</td>\n",
       "      <td>0.000000</td>\n",
       "    </tr>\n",
       "    <tr>\n",
       "      <th>75%</th>\n",
       "      <td>2024.000000</td>\n",
       "      <td>1.873422e+05</td>\n",
       "      <td>185900.000000</td>\n",
       "      <td>100.000000</td>\n",
       "    </tr>\n",
       "    <tr>\n",
       "      <th>max</th>\n",
       "      <td>2024.000000</td>\n",
       "      <td>3.040000e+07</td>\n",
       "      <td>800000.000000</td>\n",
       "      <td>100.000000</td>\n",
       "    </tr>\n",
       "  </tbody>\n",
       "</table>\n",
       "</div>"
      ],
      "text/plain": [
       "          work_year        salary  salary_in_usd  remote_ratio\n",
       "count  16494.000000  1.649400e+04   16494.000000  16494.000000\n",
       "mean    2023.224991  1.637878e+05  149713.575725     32.044986\n",
       "std        0.713405  3.406017e+05   68516.136918     46.260201\n",
       "min     2020.000000  1.400000e+04   15000.000000      0.000000\n",
       "25%     2023.000000  1.020000e+05  101517.500000      0.000000\n",
       "50%     2023.000000  1.422000e+05  141300.000000      0.000000\n",
       "75%     2024.000000  1.873422e+05  185900.000000    100.000000\n",
       "max     2024.000000  3.040000e+07  800000.000000    100.000000"
      ]
     },
     "execution_count": 3,
     "metadata": {},
     "output_type": "execute_result"
    }
   ],
   "source": [
    "df.describe()"
   ]
  },
  {
   "cell_type": "code",
   "execution_count": 4,
   "metadata": {},
   "outputs": [
    {
     "data": {
      "text/plain": [
       "work_year             0\n",
       "experience_level      0\n",
       "employment_type       0\n",
       "job_title             0\n",
       "salary                0\n",
       "salary_currency       0\n",
       "salary_in_usd         0\n",
       "employee_residence    0\n",
       "remote_ratio          0\n",
       "company_location      0\n",
       "company_size          0\n",
       "dtype: int64"
      ]
     },
     "execution_count": 4,
     "metadata": {},
     "output_type": "execute_result"
    }
   ],
   "source": [
    "df.isna().sum()"
   ]
  },
  {
   "cell_type": "markdown",
   "metadata": {},
   "source": [
    "## Data preprocessing "
   ]
  },
  {
   "cell_type": "code",
   "execution_count": 5,
   "metadata": {},
   "outputs": [
    {
     "name": "stdout",
     "output_type": "stream",
     "text": [
      "<class 'pandas.core.frame.DataFrame'>\n",
      "Index: 10093 entries, 0 to 16493\n",
      "Data columns (total 11 columns):\n",
      " #   Column              Non-Null Count  Dtype \n",
      "---  ------              --------------  ----- \n",
      " 0   work_year           10093 non-null  int64 \n",
      " 1   experience_level    10093 non-null  object\n",
      " 2   employment_type     10093 non-null  object\n",
      " 3   job_title           10093 non-null  object\n",
      " 4   salary              10093 non-null  int64 \n",
      " 5   salary_currency     10093 non-null  object\n",
      " 6   salary_in_usd       10093 non-null  int64 \n",
      " 7   employee_residence  10093 non-null  object\n",
      " 8   remote_ratio        10093 non-null  int64 \n",
      " 9   company_location    10093 non-null  object\n",
      " 10  company_size        10093 non-null  object\n",
      "dtypes: int64(4), object(7)\n",
      "memory usage: 946.2+ KB\n"
     ]
    }
   ],
   "source": [
    "df = df.drop_duplicates()\n",
    "df.info()"
   ]
  },
  {
   "cell_type": "code",
   "execution_count": 6,
   "metadata": {},
   "outputs": [
    {
     "data": {
      "text/plain": [
       "<Axes: >"
      ]
     },
     "execution_count": 6,
     "metadata": {},
     "output_type": "execute_result"
    },
    {
     "data": {
      "image/png": "[encoded data removed]",
      "text/plain": [
       "<Figure size 640x480 with 1 Axes>"
      ]
     },
     "metadata": {},
     "output_type": "display_data"
    }
   ],
   "source": [
    "#Visualization of salary\n",
    "df['salary_in_usd'].hist()"
   ]
  },
  {
   "cell_type": "markdown",
   "metadata": {},
   "source": [
    "# Prepare for Linear Regression\n"
   ]
  },
  {
   "cell_type": "markdown",
   "metadata": {},
   "source": [
    "## Label Encoding \n",
    "Chuẩn hóa các biến categorical có thứ tự "
   ]
  },
  {
   "cell_type": "code",
   "execution_count": 7,
   "metadata": {},
   "outputs": [],
   "source": [
    "experience = {'EN' : 1,'MI' : 2, 'SE' : 3, 'EX' : 4}\n",
    "df['experience_level_LE'] = df['experience_level'].map(experience)\n",
    "company_size = {'S' : 1, 'M' : 2, 'L' : 3}\n",
    "df['company_size_LE'] = df['company_size'].map(company_size)\n",
    "df['company_size_LE'] = df['company_size_LE'].astype(int)\n",
    "df = df.drop(columns= ['experience_level', 'company_size'])"
   ]
  },
  {
   "cell_type": "code",
   "execution_count": 8,
   "metadata": {},
   "outputs": [
    {
     "data": {
      "text/html": [
       "<div>\n",
       "<style scoped>\n",
       "    .dataframe tbody tr th:only-of-type {\n",
       "        vertical-align: middle;\n",
       "    }\n",
       "\n",
       "    .dataframe tbody tr th {\n",
       "        vertical-align: top;\n",
       "    }\n",
       "\n",
       "    .dataframe thead th {\n",
       "        text-align: right;\n",
       "    }\n",
       "</style>\n",
       "<table border=\"1\" class=\"dataframe\">\n",
       "  <thead>\n",
       "    <tr style=\"text-align: right;\">\n",
       "      <th></th>\n",
       "      <th>work_year</th>\n",
       "      <th>employment_type</th>\n",
       "      <th>job_title</th>\n",
       "      <th>salary</th>\n",
       "      <th>salary_currency</th>\n",
       "      <th>salary_in_usd</th>\n",
       "      <th>employee_residence</th>\n",
       "      <th>remote_ratio</th>\n",
       "      <th>company_location</th>\n",
       "      <th>experience_level_LE</th>\n",
       "      <th>company_size_LE</th>\n",
       "    </tr>\n",
       "  </thead>\n",
       "  <tbody>\n",
       "    <tr>\n",
       "      <th>0</th>\n",
       "      <td>2024</td>\n",
       "      <td>FT</td>\n",
       "      <td>Data Scientist</td>\n",
       "      <td>120000</td>\n",
       "      <td>USD</td>\n",
       "      <td>120000</td>\n",
       "      <td>AU</td>\n",
       "      <td>0</td>\n",
       "      <td>AU</td>\n",
       "      <td>2</td>\n",
       "      <td>1</td>\n",
       "    </tr>\n",
       "    <tr>\n",
       "      <th>1</th>\n",
       "      <td>2024</td>\n",
       "      <td>FT</td>\n",
       "      <td>Data Scientist</td>\n",
       "      <td>70000</td>\n",
       "      <td>USD</td>\n",
       "      <td>70000</td>\n",
       "      <td>AU</td>\n",
       "      <td>0</td>\n",
       "      <td>AU</td>\n",
       "      <td>2</td>\n",
       "      <td>1</td>\n",
       "    </tr>\n",
       "    <tr>\n",
       "      <th>2</th>\n",
       "      <td>2024</td>\n",
       "      <td>CT</td>\n",
       "      <td>Data Scientist</td>\n",
       "      <td>130000</td>\n",
       "      <td>USD</td>\n",
       "      <td>130000</td>\n",
       "      <td>US</td>\n",
       "      <td>0</td>\n",
       "      <td>US</td>\n",
       "      <td>2</td>\n",
       "      <td>2</td>\n",
       "    </tr>\n",
       "    <tr>\n",
       "      <th>3</th>\n",
       "      <td>2024</td>\n",
       "      <td>CT</td>\n",
       "      <td>Data Scientist</td>\n",
       "      <td>110000</td>\n",
       "      <td>USD</td>\n",
       "      <td>110000</td>\n",
       "      <td>US</td>\n",
       "      <td>0</td>\n",
       "      <td>US</td>\n",
       "      <td>2</td>\n",
       "      <td>2</td>\n",
       "    </tr>\n",
       "    <tr>\n",
       "      <th>4</th>\n",
       "      <td>2024</td>\n",
       "      <td>FT</td>\n",
       "      <td>Data Science Manager</td>\n",
       "      <td>240000</td>\n",
       "      <td>USD</td>\n",
       "      <td>240000</td>\n",
       "      <td>US</td>\n",
       "      <td>0</td>\n",
       "      <td>US</td>\n",
       "      <td>2</td>\n",
       "      <td>2</td>\n",
       "    </tr>\n",
       "    <tr>\n",
       "      <th>...</th>\n",
       "      <td>...</td>\n",
       "      <td>...</td>\n",
       "      <td>...</td>\n",
       "      <td>...</td>\n",
       "      <td>...</td>\n",
       "      <td>...</td>\n",
       "      <td>...</td>\n",
       "      <td>...</td>\n",
       "      <td>...</td>\n",
       "      <td>...</td>\n",
       "      <td>...</td>\n",
       "    </tr>\n",
       "    <tr>\n",
       "      <th>16489</th>\n",
       "      <td>2020</td>\n",
       "      <td>FT</td>\n",
       "      <td>Data Scientist</td>\n",
       "      <td>412000</td>\n",
       "      <td>USD</td>\n",
       "      <td>412000</td>\n",
       "      <td>US</td>\n",
       "      <td>100</td>\n",
       "      <td>US</td>\n",
       "      <td>3</td>\n",
       "      <td>3</td>\n",
       "    </tr>\n",
       "    <tr>\n",
       "      <th>16490</th>\n",
       "      <td>2021</td>\n",
       "      <td>FT</td>\n",
       "      <td>Principal Data Scientist</td>\n",
       "      <td>151000</td>\n",
       "      <td>USD</td>\n",
       "      <td>151000</td>\n",
       "      <td>US</td>\n",
       "      <td>100</td>\n",
       "      <td>US</td>\n",
       "      <td>2</td>\n",
       "      <td>3</td>\n",
       "    </tr>\n",
       "    <tr>\n",
       "      <th>16491</th>\n",
       "      <td>2020</td>\n",
       "      <td>FT</td>\n",
       "      <td>Data Scientist</td>\n",
       "      <td>105000</td>\n",
       "      <td>USD</td>\n",
       "      <td>105000</td>\n",
       "      <td>US</td>\n",
       "      <td>100</td>\n",
       "      <td>US</td>\n",
       "      <td>1</td>\n",
       "      <td>1</td>\n",
       "    </tr>\n",
       "    <tr>\n",
       "      <th>16492</th>\n",
       "      <td>2020</td>\n",
       "      <td>CT</td>\n",
       "      <td>Business Data Analyst</td>\n",
       "      <td>100000</td>\n",
       "      <td>USD</td>\n",
       "      <td>100000</td>\n",
       "      <td>US</td>\n",
       "      <td>100</td>\n",
       "      <td>US</td>\n",
       "      <td>1</td>\n",
       "      <td>3</td>\n",
       "    </tr>\n",
       "    <tr>\n",
       "      <th>16493</th>\n",
       "      <td>2021</td>\n",
       "      <td>FT</td>\n",
       "      <td>Data Science Manager</td>\n",
       "      <td>7000000</td>\n",
       "      <td>INR</td>\n",
       "      <td>94665</td>\n",
       "      <td>IN</td>\n",
       "      <td>50</td>\n",
       "      <td>IN</td>\n",
       "      <td>3</td>\n",
       "      <td>3</td>\n",
       "    </tr>\n",
       "  </tbody>\n",
       "</table>\n",
       "<p>10093 rows × 11 columns</p>\n",
       "</div>"
      ],
      "text/plain": [
       "       work_year employment_type                 job_title   salary  \\\n",
       "0           2024              FT            Data Scientist   120000   \n",
       "1           2024              FT            Data Scientist    70000   \n",
       "2           2024              CT            Data Scientist   130000   \n",
       "3           2024              CT            Data Scientist   110000   \n",
       "4           2024              FT      Data Science Manager   240000   \n",
       "...          ...             ...                       ...      ...   \n",
       "16489       2020              FT            Data Scientist   412000   \n",
       "16490       2021              FT  Principal Data Scientist   151000   \n",
       "16491       2020              FT            Data Scientist   105000   \n",
       "16492       2020              CT     Business Data Analyst   100000   \n",
       "16493       2021              FT      Data Science Manager  7000000   \n",
       "\n",
       "      salary_currency  salary_in_usd employee_residence  remote_ratio  \\\n",
       "0                 USD         120000                 AU             0   \n",
       "1                 USD          70000                 AU             0   \n",
       "2                 USD         130000                 US             0   \n",
       "3                 USD         110000                 US             0   \n",
       "4                 USD         240000                 US             0   \n",
       "...               ...            ...                ...           ...   \n",
       "16489             USD         412000                 US           100   \n",
       "16490             USD         151000                 US           100   \n",
       "16491             USD         105000                 US           100   \n",
       "16492             USD         100000                 US           100   \n",
       "16493             INR          94665                 IN            50   \n",
       "\n",
       "      company_location  experience_level_LE  company_size_LE  \n",
       "0                   AU                    2                1  \n",
       "1                   AU                    2                1  \n",
       "2                   US                    2                2  \n",
       "3                   US                    2                2  \n",
       "4                   US                    2                2  \n",
       "...                ...                  ...              ...  \n",
       "16489               US                    3                3  \n",
       "16490               US                    2                3  \n",
       "16491               US                    1                1  \n",
       "16492               US                    1                3  \n",
       "16493               IN                    3                3  \n",
       "\n",
       "[10093 rows x 11 columns]"
      ]
     },
     "execution_count": 8,
     "metadata": {},
     "output_type": "execute_result"
    }
   ],
   "source": [
    "df"
   ]
  },
  {
   "cell_type": "markdown",
   "metadata": {},
   "source": [
    "## Seperating Data into X and y "
   ]
  },
  {
   "cell_type": "code",
   "execution_count": 9,
   "metadata": {},
   "outputs": [],
   "source": [
    "# Lấy đơn vị của salary in usd là nghìn đô thay vì đô\n",
    "df['salary_in_usd'] = df['salary_in_usd']/1000\n",
    "y = df['salary_in_usd']\n",
    "X = df.drop(['salary', 'salary_currency', 'salary_in_usd'], axis = 1)"
   ]
  },
  {
   "cell_type": "code",
   "execution_count": 10,
   "metadata": {},
   "outputs": [
    {
     "data": {
      "text/html": [
       "<div>\n",
       "<style scoped>\n",
       "    .dataframe tbody tr th:only-of-type {\n",
       "        vertical-align: middle;\n",
       "    }\n",
       "\n",
       "    .dataframe tbody tr th {\n",
       "        vertical-align: top;\n",
       "    }\n",
       "\n",
       "    .dataframe thead th {\n",
       "        text-align: right;\n",
       "    }\n",
       "</style>\n",
       "<table border=\"1\" class=\"dataframe\">\n",
       "  <thead>\n",
       "    <tr style=\"text-align: right;\">\n",
       "      <th></th>\n",
       "      <th>work_year</th>\n",
       "      <th>employment_type</th>\n",
       "      <th>job_title</th>\n",
       "      <th>employee_residence</th>\n",
       "      <th>remote_ratio</th>\n",
       "      <th>company_location</th>\n",
       "      <th>experience_level_LE</th>\n",
       "      <th>company_size_LE</th>\n",
       "    </tr>\n",
       "  </thead>\n",
       "  <tbody>\n",
       "    <tr>\n",
       "      <th>0</th>\n",
       "      <td>2024</td>\n",
       "      <td>FT</td>\n",
       "      <td>Data Scientist</td>\n",
       "      <td>AU</td>\n",
       "      <td>0</td>\n",
       "      <td>AU</td>\n",
       "      <td>2</td>\n",
       "      <td>1</td>\n",
       "    </tr>\n",
       "    <tr>\n",
       "      <th>1</th>\n",
       "      <td>2024</td>\n",
       "      <td>FT</td>\n",
       "      <td>Data Scientist</td>\n",
       "      <td>AU</td>\n",
       "      <td>0</td>\n",
       "      <td>AU</td>\n",
       "      <td>2</td>\n",
       "      <td>1</td>\n",
       "    </tr>\n",
       "    <tr>\n",
       "      <th>2</th>\n",
       "      <td>2024</td>\n",
       "      <td>CT</td>\n",
       "      <td>Data Scientist</td>\n",
       "      <td>US</td>\n",
       "      <td>0</td>\n",
       "      <td>US</td>\n",
       "      <td>2</td>\n",
       "      <td>2</td>\n",
       "    </tr>\n",
       "    <tr>\n",
       "      <th>3</th>\n",
       "      <td>2024</td>\n",
       "      <td>CT</td>\n",
       "      <td>Data Scientist</td>\n",
       "      <td>US</td>\n",
       "      <td>0</td>\n",
       "      <td>US</td>\n",
       "      <td>2</td>\n",
       "      <td>2</td>\n",
       "    </tr>\n",
       "    <tr>\n",
       "      <th>4</th>\n",
       "      <td>2024</td>\n",
       "      <td>FT</td>\n",
       "      <td>Data Science Manager</td>\n",
       "      <td>US</td>\n",
       "      <td>0</td>\n",
       "      <td>US</td>\n",
       "      <td>2</td>\n",
       "      <td>2</td>\n",
       "    </tr>\n",
       "  </tbody>\n",
       "</table>\n",
       "</div>"
      ],
      "text/plain": [
       "   work_year employment_type             job_title employee_residence  \\\n",
       "0       2024              FT        Data Scientist                 AU   \n",
       "1       2024              FT        Data Scientist                 AU   \n",
       "2       2024              CT        Data Scientist                 US   \n",
       "3       2024              CT        Data Scientist                 US   \n",
       "4       2024              FT  Data Science Manager                 US   \n",
       "\n",
       "   remote_ratio company_location  experience_level_LE  company_size_LE  \n",
       "0             0               AU                    2                1  \n",
       "1             0               AU                    2                1  \n",
       "2             0               US                    2                2  \n",
       "3             0               US                    2                2  \n",
       "4             0               US                    2                2  "
      ]
     },
     "execution_count": 10,
     "metadata": {},
     "output_type": "execute_result"
    }
   ],
   "source": [
    "X.head()"
   ]
  },
  {
   "cell_type": "code",
   "execution_count": 11,
   "metadata": {},
   "outputs": [
    {
     "data": {
      "text/plain": [
       "0    120.0\n",
       "1     70.0\n",
       "2    130.0\n",
       "3    110.0\n",
       "4    240.0\n",
       "Name: salary_in_usd, dtype: float64"
      ]
     },
     "execution_count": 11,
     "metadata": {},
     "output_type": "execute_result"
    }
   ],
   "source": [
    "y.head()"
   ]
  },
  {
   "cell_type": "code",
   "execution_count": 12,
   "metadata": {},
   "outputs": [
    {
     "name": "stdout",
     "output_type": "stream",
     "text": [
      "<class 'pandas.core.frame.DataFrame'>\n",
      "Index: 10093 entries, 0 to 16493\n",
      "Data columns (total 8 columns):\n",
      " #   Column               Non-Null Count  Dtype \n",
      "---  ------               --------------  ----- \n",
      " 0   work_year            10093 non-null  int64 \n",
      " 1   employment_type      10093 non-null  object\n",
      " 2   job_title            10093 non-null  object\n",
      " 3   employee_residence   10093 non-null  object\n",
      " 4   remote_ratio         10093 non-null  int64 \n",
      " 5   company_location     10093 non-null  object\n",
      " 6   experience_level_LE  10093 non-null  int64 \n",
      " 7   company_size_LE      10093 non-null  int32 \n",
      "dtypes: int32(1), int64(3), object(4)\n",
      "memory usage: 670.2+ KB\n"
     ]
    }
   ],
   "source": [
    "X.info()"
   ]
  },
  {
   "cell_type": "markdown",
   "metadata": {},
   "source": [
    "## One Hot Encoding \n",
    "Chuẩn hóa các biến kiểu categorical không có thứ tự "
   ]
  },
  {
   "cell_type": "code",
   "execution_count": 13,
   "metadata": {},
   "outputs": [],
   "source": [
    "from sklearn.preprocessing import OneHotEncoder\n",
    "from sklearn.compose import ColumnTransformer"
   ]
  },
  {
   "cell_type": "code",
   "execution_count": 14,
   "metadata": {},
   "outputs": [
    {
     "data": {
      "text/plain": [
       "array([[  0.,   0.,   1., ...,   0.,   2.,   1.],\n",
       "       [  0.,   0.,   1., ...,   0.,   2.,   1.],\n",
       "       [  1.,   0.,   0., ...,   0.,   2.,   2.],\n",
       "       ...,\n",
       "       [  0.,   0.,   1., ..., 100.,   1.,   1.],\n",
       "       [  1.,   0.,   0., ..., 100.,   1.,   3.],\n",
       "       [  0.,   0.,   1., ...,  50.,   3.,   3.]])"
      ]
     },
     "execution_count": 14,
     "metadata": {},
     "output_type": "execute_result"
    }
   ],
   "source": [
    "categorical_features = ['employment_type',\n",
    "                        'job_title',\n",
    "                        'employee_residence',\n",
    "                        'company_location',]\n",
    "one_hot = OneHotEncoder(handle_unknown= 'ignore', sparse_output= False).set_output(transform= 'pandas')\n",
    "transformer = ColumnTransformer([('one_hot',one_hot, categorical_features)], remainder= 'passthrough')\n",
    "transformed_X = transformer.fit_transform(X)\n",
    "transformed_X"
   ]
  },
  {
   "cell_type": "markdown",
   "metadata": {},
   "source": [
    "## Splitting Data"
   ]
  },
  {
   "cell_type": "code",
   "execution_count": 15,
   "metadata": {},
   "outputs": [],
   "source": [
    "from sklearn.model_selection import train_test_split # type: ignore\n",
    "\n",
    "X_train, X_test, y_train, y_test = train_test_split(transformed_X, y, test_size= 0.2)"
   ]
  },
  {
   "cell_type": "markdown",
   "metadata": {},
   "source": [
    "# Model Linear Regression "
   ]
  },
  {
   "cell_type": "markdown",
   "metadata": {},
   "source": [
    "## Training Model "
   ]
  },
  {
   "cell_type": "code",
   "execution_count": 16,
   "metadata": {},
   "outputs": [
    {
     "data": {
      "text/html": [
       "<style>#sk-container-id-1 {color: black;background-color: white;}#sk-container-id-1 pre{padding: 0;}#sk-container-id-1 div.sk-toggleable {background-color: white;}#sk-container-id-1 label.sk-toggleable__label {cursor: pointer;display: block;width: 100%;margin-bottom: 0;padding: 0.3em;box-sizing: border-box;text-align: center;}#sk-container-id-1 label.sk-toggleable__label-arrow:before {content: \"▸\";float: left;margin-right: 0.25em;color: #696969;}#sk-container-id-1 label.sk-toggleable__label-arrow:hover:before {color: black;}#sk-container-id-1 div.sk-estimator:hover label.sk-toggleable__label-arrow:before {color: black;}#sk-container-id-1 div.sk-toggleable__content {max-height: 0;max-width: 0;overflow: hidden;text-align: left;background-color: #f0f8ff;}#sk-container-id-1 div.sk-toggleable__content pre {margin: 0.2em;color: black;border-radius: 0.25em;background-color: #f0f8ff;}#sk-container-id-1 input.sk-toggleable__control:checked~div.sk-toggleable__content {max-height: 200px;max-width: 100%;overflow: auto;}#sk-container-id-1 input.sk-toggleable__control:checked~label.sk-toggleable__label-arrow:before {content: \"▾\";}#sk-container-id-1 div.sk-estimator input.sk-toggleable__control:checked~label.sk-toggleable__label {background-color: #d4ebff;}#sk-container-id-1 div.sk-label input.sk-toggleable__control:checked~label.sk-toggleable__label {background-color: #d4ebff;}#sk-container-id-1 input.sk-hidden--visually {border: 0;clip: rect(1px 1px 1px 1px);clip: rect(1px, 1px, 1px, 1px);height: 1px;margin: -1px;overflow: hidden;padding: 0;position: absolute;width: 1px;}#sk-container-id-1 div.sk-estimator {font-family: monospace;background-color: #f0f8ff;border: 1px dotted black;border-radius: 0.25em;box-sizing: border-box;margin-bottom: 0.5em;}#sk-container-id-1 div.sk-estimator:hover {background-color: #d4ebff;}#sk-container-id-1 div.sk-parallel-item::after {content: \"\";width: 100%;border-bottom: 1px solid gray;flex-grow: 1;}#sk-container-id-1 div.sk-label:hover label.sk-toggleable__label {background-color: #d4ebff;}#sk-container-id-1 div.sk-serial::before {content: \"\";position: absolute;border-left: 1px solid gray;box-sizing: border-box;top: 0;bottom: 0;left: 50%;z-index: 0;}#sk-container-id-1 div.sk-serial {display: flex;flex-direction: column;align-items: center;background-color: white;padding-right: 0.2em;padding-left: 0.2em;position: relative;}#sk-container-id-1 div.sk-item {position: relative;z-index: 1;}#sk-container-id-1 div.sk-parallel {display: flex;align-items: stretch;justify-content: center;background-color: white;position: relative;}#sk-container-id-1 div.sk-item::before, #sk-container-id-1 div.sk-parallel-item::before {content: \"\";position: absolute;border-left: 1px solid gray;box-sizing: border-box;top: 0;bottom: 0;left: 50%;z-index: -1;}#sk-container-id-1 div.sk-parallel-item {display: flex;flex-direction: column;z-index: 1;position: relative;background-color: white;}#sk-container-id-1 div.sk-parallel-item:first-child::after {align-self: flex-end;width: 50%;}#sk-container-id-1 div.sk-parallel-item:last-child::after {align-self: flex-start;width: 50%;}#sk-container-id-1 div.sk-parallel-item:only-child::after {width: 0;}#sk-container-id-1 div.sk-dashed-wrapped {border: 1px dashed gray;margin: 0 0.4em 0.5em 0.4em;box-sizing: border-box;padding-bottom: 0.4em;background-color: white;}#sk-container-id-1 div.sk-label label {font-family: monospace;font-weight: bold;display: inline-block;line-height: 1.2em;}#sk-container-id-1 div.sk-label-container {text-align: center;}#sk-container-id-1 div.sk-container {/* jupyter's `normalize.less` sets `[hidden] { display: none; }` but bootstrap.min.css set `[hidden] { display: none !important; }` so we also need the `!important` here to be able to override the default hidden behavior on the sphinx rendered scikit-learn.org. See: https://github.com/scikit-learn/scikit-learn/issues/21755 */display: inline-block !important;position: relative;}#sk-container-id-1 div.sk-text-repr-fallback {display: none;}</style><div id=\"sk-container-id-1\" class=\"sk-top-container\"><div class=\"sk-text-repr-fallback\"><pre>LinearRegression()</pre><b>In a Jupyter environment, please rerun this cell to show the HTML representation or trust the notebook. <br />On GitHub, the HTML representation is unable to render, please try loading this page with nbviewer.org.</b></div><div class=\"sk-container\" hidden><div class=\"sk-item\"><div class=\"sk-estimator sk-toggleable\"><input class=\"sk-toggleable__control sk-hidden--visually\" id=\"sk-estimator-id-1\" type=\"checkbox\" checked><label for=\"sk-estimator-id-1\" class=\"sk-toggleable__label sk-toggleable__label-arrow\">LinearRegression</label><div class=\"sk-toggleable__content\"><pre>LinearRegression()</pre></div></div></div></div></div>"
      ],
      "text/plain": [
       "LinearRegression()"
      ]
     },
     "execution_count": 16,
     "metadata": {},
     "output_type": "execute_result"
    }
   ],
   "source": [
    "from sklearn.linear_model import LinearRegression\n",
    "\n",
    "lr = LinearRegression()\n",
    "\n",
    "lr.fit(X_train, y_train)"
   ]
  },
  {
   "cell_type": "code",
   "execution_count": 17,
   "metadata": {},
   "outputs": [],
   "source": [
    "y_train_pred = lr.predict(X_train)\n",
    "y_test_pred = lr.predict(X_test)"
   ]
  },
  {
   "cell_type": "markdown",
   "metadata": {},
   "source": [
    "## Evaluate Model "
   ]
  },
  {
   "cell_type": "code",
   "execution_count": 18,
   "metadata": {},
   "outputs": [],
   "source": [
    "from sklearn.metrics import mean_squared_error\n",
    "from sklearn.metrics import r2_score\n",
    "\n",
    "lr_train_mse = mean_squared_error(y_train, y_train_pred)\n",
    "lr_test_mse = mean_squared_error(y_test, y_test_pred)\n",
    "lr_train_r2 = r2_score(y_train, y_train_pred)\n",
    "lr_test_r2 = r2_score(y_test, y_test_pred)"
   ]
  },
  {
   "cell_type": "code",
   "execution_count": 19,
   "metadata": {},
   "outputs": [
    {
     "name": "stdout",
     "output_type": "stream",
     "text": [
      "model coefficients:  [-1.47631385e+05 -1.47640071e+05 -1.47621380e+05 -1.47646288e+05\n",
      " -9.24124280e+09 -9.24124288e+09 -9.24124289e+09 -9.24124290e+09\n",
      " -9.24124295e+09 -9.24124289e+09 -9.24124295e+09 -9.24124290e+09\n",
      " -9.24124291e+09 -9.24124279e+09 -9.24124293e+09 -9.24124290e+09\n",
      " -9.24124262e+09 -9.24124288e+09 -9.24124290e+09 -9.24124289e+09\n",
      " -9.24124297e+09 -9.24124287e+09 -9.24124288e+09 -9.24124291e+09\n",
      " -9.24124293e+09 -9.24124294e+09 -9.24124296e+09 -9.24124294e+09\n",
      " -9.24124289e+09 -9.24124291e+09 -9.24124294e+09 -9.24124291e+09\n",
      " -9.24124293e+09 -9.24124292e+09 -9.24124294e+09 -9.24124297e+09\n",
      " -9.24124296e+09 -9.24124293e+09 -9.24124292e+09 -9.24124291e+09\n",
      " -9.24124293e+09 -9.24124293e+09 -9.24124281e+09 -9.24124286e+09\n",
      " -9.24124292e+09 -9.24124294e+09 -9.24124288e+09 -9.24124286e+09\n",
      " -9.24124291e+09 -9.24124293e+09 -9.24124294e+09 -9.24124292e+09\n",
      " -9.24124298e+09 -9.24124295e+09 -9.24124291e+09 -9.24124287e+09\n",
      " -9.24124292e+09 -9.24124295e+09 -9.24124291e+09 -9.24124291e+09\n",
      " -9.24124296e+09 -9.24124291e+09 -9.24124286e+09 -9.24124295e+09\n",
      " -9.24124294e+09 -9.24124292e+09 -9.24124292e+09 -9.24124294e+09\n",
      " -9.24124298e+09 -9.24124295e+09 -9.24124295e+09 -9.24124293e+09\n",
      " -9.24124292e+09 -9.24124296e+09 -9.24124295e+09 -9.24124292e+09\n",
      " -9.24124293e+09 -9.24124298e+09 -4.12384655e+09 -9.24124290e+09\n",
      " -9.24124290e+09 -9.24124296e+09 -9.24124292e+09 -9.24124293e+09\n",
      " -8.63239365e+10 -9.24124290e+09 -9.24124293e+09 -9.24124294e+09\n",
      " -9.24124290e+09 -9.24124292e+09 -9.24124289e+09 -9.24124288e+09\n",
      " -9.24124293e+09 -9.24124269e+09 -9.24124290e+09 -9.24124288e+09\n",
      " -9.24124296e+09 -9.24124295e+09 -9.24124292e+09 -9.24124295e+09\n",
      " -9.24124295e+09 -9.24124294e+09 -9.24124291e+09 -9.24124288e+09\n",
      " -9.24124290e+09 -9.24124292e+09 -9.24124286e+09 -9.24124294e+09\n",
      " -9.24124293e+09 -9.24124299e+09 -9.24124294e+09 -9.24124294e+09\n",
      " -9.24124288e+09 -9.24124287e+09 -9.24124279e+09 -9.24124296e+09\n",
      " -9.24124293e+09 -9.24124293e+09 -9.24124289e+09 -9.24124288e+09\n",
      " -9.24124287e+09 -9.24124290e+09 -9.24124292e+09 -9.24124294e+09\n",
      " -9.24124288e+09 -9.24124289e+09 -9.24124292e+09 -9.24124287e+09\n",
      " -9.24124291e+09 -9.24124293e+09 -9.24124291e+09 -9.24124288e+09\n",
      " -9.24124286e+09 -9.24124293e+09 -9.24124293e+09 -9.24124281e+09\n",
      " -9.24124282e+09  7.51022060e+10 -9.24124298e+09 -9.24124290e+09\n",
      " -9.24124284e+09 -9.24124289e+09 -1.65144669e+10 -9.24124286e+09\n",
      " -9.24124284e+09 -9.24124284e+09 -9.24124292e+09 -9.24124289e+09\n",
      " -9.24124298e+09 -9.24124293e+09 -9.24124287e+09 -9.24124287e+09\n",
      " -9.24124293e+09 -9.24124286e+09 -9.24124290e+09 -9.24124287e+09\n",
      " -9.24124289e+09 -9.24124292e+09 -9.24124288e+09 -1.05609638e+11\n",
      "  9.62741368e+10  9.43746144e+10  9.43746144e+10  1.42089385e+11\n",
      "  9.43746143e+10  9.43746144e+10  7.61341176e+10  9.43746144e+10\n",
      "  9.43746144e+10  9.43746144e+10  9.43746144e+10  9.43746144e+10\n",
      "  1.33808312e+11  9.43746145e+10  9.43746145e+10  9.43746145e+10\n",
      "  1.19296244e+11 -1.50728828e+10  1.07912526e+11  9.43746144e+10\n",
      "  9.43746144e+10  9.43746145e+10  9.43746145e+10 -8.90949963e+10\n",
      " -3.98462651e+10  1.07912526e+11  9.43746144e+10  9.43746144e+10\n",
      "  9.43746144e+10  9.43746144e+10  9.43746144e+10  2.36008804e+09\n",
      "  9.43746144e+10  9.43746144e+10  1.96553251e+11  8.43447393e+10\n",
      "  9.43746143e+10  9.43746144e+10  9.43746144e+10  1.14814471e+10\n",
      "  9.43746145e+10  9.43746143e+10  1.06047474e+11  3.49260558e+06\n",
      "  9.43746144e+10 -9.38189644e+05  1.18379172e+11  2.25037284e+11\n",
      "  1.25947495e+11  1.90878078e+05  1.11592067e+11  1.06305165e+11\n",
      "  9.43746144e+10  8.68541665e+10  9.43746144e+10  1.35626636e+11\n",
      "  1.00878206e+11  9.43746145e+10  9.43746144e+10  9.43746143e+10\n",
      "  9.43746143e+10  1.11469255e+11  1.19375958e+11  6.68931870e+10\n",
      "  9.43746144e+10  9.43746144e+10  9.43746144e+10  9.43746144e+10\n",
      "  9.43746145e+10  9.43746144e+10  1.01691515e+11  9.43746143e+10\n",
      "  9.43746143e+10  9.43746144e+10  9.44241876e+10  9.43746144e+10\n",
      "  9.43746144e+10 -4.11519766e+11  9.43746143e+10  9.43746144e+10\n",
      "  9.43746144e+10  9.43746144e+10  9.43746143e+10  9.43746144e+10\n",
      "  9.43746144e+10  9.43746143e+10  5.39297746e+10  4.15602699e-07\n",
      "  1.11986039e+11  7.05567800e-08  1.13885562e+11  1.13885562e+11\n",
      "  1.13885562e+11  1.13885562e+11  1.32126059e+11  1.13885562e+11\n",
      "  1.13885562e+11  6.61707915e+10  1.13885562e+11  7.44518641e+10\n",
      "  1.13885562e+11  0.00000000e+00  3.19744231e-14  8.89639319e+10\n",
      "  1.13885562e+11  1.13885562e+11  1.13885562e+11  2.97355173e+11\n",
      "  1.70530257e-13  1.00347650e+11  1.13885562e+11  1.13885562e+11\n",
      "  1.13885562e+11  1.13885562e+11  1.13885562e+11  1.13885562e+11\n",
      "  2.13162821e-14  1.13885562e+11  1.17069248e+10  1.23915437e+11\n",
      "  1.13885562e+11  1.13885562e+11  1.13885562e+11  1.96778729e+11\n",
      "  1.13885562e+11  1.13885562e+11  1.02212702e+11  0.00000000e+00\n",
      "  1.13885562e+11  8.98810041e+10 -1.67771074e+10  8.23126814e+10\n",
      "  9.66681088e+10  1.01955012e+11  1.13885562e+11  1.21406010e+11\n",
      "  1.13885562e+11  7.26335401e+10  1.07381971e+11  1.13885562e+11\n",
      "  8.98810041e+10  1.13885562e+11  1.13885562e+11  9.67909212e+10\n",
      "  8.88842178e+10  1.41366989e+11  1.13885562e+11  0.00000000e+00\n",
      "  1.13885562e+11  1.13885562e+11  1.13885562e+11  1.06568661e+11\n",
      "  1.13885562e+11  1.13885562e+11  1.13835989e+11  1.13885562e+11\n",
      "  1.13885562e+11  6.19779942e+11  1.13885562e+11  1.13885562e+11\n",
      "  1.13885562e+11  1.13885562e+11  1.13885562e+11  1.54330402e+11\n",
      "  4.03108597e+00 -4.12511826e-02  2.48494902e+01 -7.12835312e-01]\n",
      "model intercept:  -199018793824.9068\n",
      "lr train mean square error:  3260.2038617022904\n",
      "lr test mean square error:  1.8801491406843603e+20\n",
      "lr train r2 score:  0.35399509035334364\n",
      "lr test r2 score:  -3.0250713327097132e+16\n"
     ]
    }
   ],
   "source": [
    "print('model coefficients: ', lr.coef_)\n",
    "print('model intercept: ', lr.intercept_)\n",
    "print('lr train mean square error: ', lr_train_mse)\n",
    "print('lr test mean square error: ', lr_test_mse)\n",
    "print('lr train r2 score: ', lr_train_r2)\n",
    "print('lr test r2 score: ', lr_test_r2)"
   ]
  },
  {
   "cell_type": "code",
   "execution_count": 20,
   "metadata": {},
   "outputs": [
    {
     "data": {
      "text/plain": [
       "0.35399509035334364"
      ]
     },
     "execution_count": 20,
     "metadata": {},
     "output_type": "execute_result"
    }
   ],
   "source": [
    "lr.score(X_train, y_train)"
   ]
  },
  {
   "cell_type": "code",
   "execution_count": 21,
   "metadata": {},
   "outputs": [
    {
     "data": {
      "text/plain": [
       "array([120.38818359, 149.11920166,  80.56793213, 198.77227783,\n",
       "       126.37258911])"
      ]
     },
     "execution_count": 21,
     "metadata": {},
     "output_type": "execute_result"
    }
   ],
   "source": [
    "lr.predict(X_test[:5])"
   ]
  },
  {
   "cell_type": "code",
   "execution_count": 22,
   "metadata": {},
   "outputs": [
    {
     "data": {
      "text/plain": [
       "9315     168.0\n",
       "65       131.0\n",
       "12002    140.0\n",
       "1054     208.5\n",
       "14192    112.0\n",
       "Name: salary_in_usd, dtype: float64"
      ]
     },
     "execution_count": 22,
     "metadata": {},
     "output_type": "execute_result"
    }
   ],
   "source": [
    "y_test[:5]"
   ]
  }
 ],
 "metadata": {
  "kernelspec": {
   "display_name": "base",
   "language": "python",
   "name": "python3"
  },
  "language_info": {
   "codemirror_mode": {
    "name": "ipython",
    "version": 3
   },
   "file_extension": ".py",
   "mimetype": "text/x-python",
   "name": "python",
   "nbconvert_exporter": "python",
   "pygments_lexer": "ipython3",
   "version": "3.11.7"
  }
 },
 "nbformat": 4,
 "nbformat_minor": 2
}
